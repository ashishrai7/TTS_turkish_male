{
 "cells": [
  {
   "cell_type": "code",
   "execution_count": 7,
   "metadata": {},
   "outputs": [],
   "source": [
    "import pandas as pd"
   ]
  },
  {
   "cell_type": "code",
   "execution_count": 9,
   "metadata": {},
   "outputs": [
    {
     "name": "stdout",
     "output_type": "stream",
     "text": [
      "/home/qblocks/TensorFlowTTS/ashish\r\n"
     ]
    }
   ],
   "source": [
    "!pwd"
   ]
  },
  {
   "cell_type": "code",
   "execution_count": 15,
   "metadata": {},
   "outputs": [
    {
     "name": "stdout",
     "output_type": "stream",
     "text": [
      "(19989, 3)\n"
     ]
    },
    {
     "data": {
      "text/html": [
       "<div>\n",
       "<style scoped>\n",
       "    .dataframe tbody tr th:only-of-type {\n",
       "        vertical-align: middle;\n",
       "    }\n",
       "\n",
       "    .dataframe tbody tr th {\n",
       "        vertical-align: top;\n",
       "    }\n",
       "\n",
       "    .dataframe thead th {\n",
       "        text-align: right;\n",
       "    }\n",
       "</style>\n",
       "<table border=\"1\" class=\"dataframe\">\n",
       "  <thead>\n",
       "    <tr style=\"text-align: right;\">\n",
       "      <th></th>\n",
       "      <th>Unnamed: 0</th>\n",
       "      <th>id</th>\n",
       "      <th>text</th>\n",
       "    </tr>\n",
       "  </thead>\n",
       "  <tbody>\n",
       "    <tr>\n",
       "      <th>0</th>\n",
       "      <td>0</td>\n",
       "      <td>0</td>\n",
       "      <td>100 farklı sanatçının çalışmalarını içeren bir...</td>\n",
       "    </tr>\n",
       "    <tr>\n",
       "      <th>1</th>\n",
       "      <td>1</td>\n",
       "      <td>1</td>\n",
       "      <td>Arkansas'da, toprak bir yol kenarında... ...en...</td>\n",
       "    </tr>\n",
       "    <tr>\n",
       "      <th>2</th>\n",
       "      <td>2</td>\n",
       "      <td>2</td>\n",
       "      <td>Ve sanırım, orası sanatçı olarak büyümek için....</td>\n",
       "    </tr>\n",
       "    <tr>\n",
       "      <th>3</th>\n",
       "      <td>3</td>\n",
       "      <td>3</td>\n",
       "      <td>Yani çocukluğum, hem umduğunuzdan daha fazla t...</td>\n",
       "    </tr>\n",
       "    <tr>\n",
       "      <th>4</th>\n",
       "      <td>4</td>\n",
       "      <td>4</td>\n",
       "      <td>Örneğin, küçükken kız kardeşimle hangimizin en...</td>\n",
       "    </tr>\n",
       "  </tbody>\n",
       "</table>\n",
       "</div>"
      ],
      "text/plain": [
       "   Unnamed: 0  id                                               text\n",
       "0           0   0  100 farklı sanatçının çalışmalarını içeren bir...\n",
       "1           1   1  Arkansas'da, toprak bir yol kenarında... ...en...\n",
       "2           2   2  Ve sanırım, orası sanatçı olarak büyümek için....\n",
       "3           3   3  Yani çocukluğum, hem umduğunuzdan daha fazla t...\n",
       "4           4   4  Örneğin, küçükken kız kardeşimle hangimizin en..."
      ]
     },
     "execution_count": 15,
     "metadata": {},
     "output_type": "execute_result"
    }
   ],
   "source": [
    "df = pd.read_csv( \"/home/qblocks/dataset/turkish_male/metadata_old.csv\")\n",
    "print(df.shape)\n",
    "df.head()"
   ]
  },
  {
   "cell_type": "code",
   "execution_count": 16,
   "metadata": {},
   "outputs": [
    {
     "data": {
      "text/html": [
       "<div>\n",
       "<style scoped>\n",
       "    .dataframe tbody tr th:only-of-type {\n",
       "        vertical-align: middle;\n",
       "    }\n",
       "\n",
       "    .dataframe tbody tr th {\n",
       "        vertical-align: top;\n",
       "    }\n",
       "\n",
       "    .dataframe thead th {\n",
       "        text-align: right;\n",
       "    }\n",
       "</style>\n",
       "<table border=\"1\" class=\"dataframe\">\n",
       "  <thead>\n",
       "    <tr style=\"text-align: right;\">\n",
       "      <th></th>\n",
       "      <th>id</th>\n",
       "      <th>text</th>\n",
       "      <th>text1</th>\n",
       "      <th>text_len</th>\n",
       "    </tr>\n",
       "  </thead>\n",
       "  <tbody>\n",
       "    <tr>\n",
       "      <th>0</th>\n",
       "      <td>0</td>\n",
       "      <td>100 farklı sanatçının çalışmalarını içeren bir...</td>\n",
       "      <td>100 farklı sanatçının çalışmalarını içeren bir...</td>\n",
       "      <td>408</td>\n",
       "    </tr>\n",
       "    <tr>\n",
       "      <th>1</th>\n",
       "      <td>1</td>\n",
       "      <td>Arkansas'da, toprak bir yol kenarında... ...en...</td>\n",
       "      <td>Arkansas'da, toprak bir yol kenarında... ...en...</td>\n",
       "      <td>127</td>\n",
       "    </tr>\n",
       "    <tr>\n",
       "      <th>2</th>\n",
       "      <td>2</td>\n",
       "      <td>Ve sanırım, orası sanatçı olarak büyümek için....</td>\n",
       "      <td>Ve sanırım, orası sanatçı olarak büyümek için....</td>\n",
       "      <td>147</td>\n",
       "    </tr>\n",
       "    <tr>\n",
       "      <th>3</th>\n",
       "      <td>3</td>\n",
       "      <td>Yani çocukluğum, hem umduğunuzdan daha fazla t...</td>\n",
       "      <td>Yani çocukluğum, hem umduğunuzdan daha fazla t...</td>\n",
       "      <td>91</td>\n",
       "    </tr>\n",
       "    <tr>\n",
       "      <th>4</th>\n",
       "      <td>4</td>\n",
       "      <td>Örneğin, küçükken kız kardeşimle hangimizin en...</td>\n",
       "      <td>Örneğin, küçükken kız kardeşimle hangimizin en...</td>\n",
       "      <td>100</td>\n",
       "    </tr>\n",
       "  </tbody>\n",
       "</table>\n",
       "</div>"
      ],
      "text/plain": [
       "   id                                               text  \\\n",
       "0   0  100 farklı sanatçının çalışmalarını içeren bir...   \n",
       "1   1  Arkansas'da, toprak bir yol kenarında... ...en...   \n",
       "2   2  Ve sanırım, orası sanatçı olarak büyümek için....   \n",
       "3   3  Yani çocukluğum, hem umduğunuzdan daha fazla t...   \n",
       "4   4  Örneğin, küçükken kız kardeşimle hangimizin en...   \n",
       "\n",
       "                                               text1  text_len  \n",
       "0  100 farklı sanatçının çalışmalarını içeren bir...       408  \n",
       "1  Arkansas'da, toprak bir yol kenarında... ...en...       127  \n",
       "2  Ve sanırım, orası sanatçı olarak büyümek için....       147  \n",
       "3  Yani çocukluğum, hem umduğunuzdan daha fazla t...        91  \n",
       "4  Örneğin, küçükken kız kardeşimle hangimizin en...       100  "
      ]
     },
     "execution_count": 16,
     "metadata": {},
     "output_type": "execute_result"
    }
   ],
   "source": [
    "df['text1'] = df.text\n",
    "df.drop(columns=['Unnamed: 0'], inplace=True)\n",
    "df['text_len'] = df.text.apply(len)\n",
    "df.head()"
   ]
  },
  {
   "cell_type": "code",
   "execution_count": 18,
   "metadata": {},
   "outputs": [
    {
     "data": {
      "text/plain": [
       "<AxesSubplot:>"
      ]
     },
     "execution_count": 18,
     "metadata": {},
     "output_type": "execute_result"
    },
    {
     "data": {
      "image/png": "[encoded data removed]",
      "text/plain": [
       "<Figure size 432x288 with 1 Axes>"
      ]
     },
     "metadata": {
      "needs_background": "light"
     },
     "output_type": "display_data"
    }
   ],
   "source": [
    "import matplotlib.pyplot as plt\n",
    "%matplotlib inline\n",
    "\n",
    "df.text_len.hist(bins= 50, grid=True, )"
   ]
  },
  {
   "cell_type": "code",
   "execution_count": 19,
   "metadata": {},
   "outputs": [
    {
     "name": "stdout",
     "output_type": "stream",
     "text": [
      "(19989, 4) (9361, 4)\n"
     ]
    },
    {
     "data": {
      "text/plain": [
       "<AxesSubplot:>"
      ]
     },
     "execution_count": 19,
     "metadata": {},
     "output_type": "execute_result"
    },
    {
     "data": {
      "image/png": "[encoded data removed]",
      "text/plain": [
       "<Figure size 432x288 with 1 Axes>"
      ]
     },
     "metadata": {
      "needs_background": "light"
     },
     "output_type": "display_data"
    }
   ],
   "source": [
    "df1 = df[df.text_len <= 125]\n",
    "print(df.shape , df1.shape)\n",
    "df1.text_len.hist()"
   ]
  },
  {
   "cell_type": "code",
   "execution_count": 20,
   "metadata": {},
   "outputs": [
    {
     "name": "stderr",
     "output_type": "stream",
     "text": [
      "/home/qblocks/anaconda3/envs/fs2/lib/python3.8/site-packages/pandas/core/frame.py:4162: SettingWithCopyWarning: \n",
      "A value is trying to be set on a copy of a slice from a DataFrame\n",
      "\n",
      "See the caveats in the documentation: https://pandas.pydata.org/pandas-docs/stable/user_guide/indexing.html#returning-a-view-versus-a-copy\n",
      "  return super().drop(\n"
     ]
    },
    {
     "data": {
      "text/html": [
       "<div>\n",
       "<style scoped>\n",
       "    .dataframe tbody tr th:only-of-type {\n",
       "        vertical-align: middle;\n",
       "    }\n",
       "\n",
       "    .dataframe tbody tr th {\n",
       "        vertical-align: top;\n",
       "    }\n",
       "\n",
       "    .dataframe thead th {\n",
       "        text-align: right;\n",
       "    }\n",
       "</style>\n",
       "<table border=\"1\" class=\"dataframe\">\n",
       "  <thead>\n",
       "    <tr style=\"text-align: right;\">\n",
       "      <th></th>\n",
       "      <th>id</th>\n",
       "      <th>text</th>\n",
       "      <th>text1</th>\n",
       "    </tr>\n",
       "  </thead>\n",
       "  <tbody>\n",
       "    <tr>\n",
       "      <th>3</th>\n",
       "      <td>3</td>\n",
       "      <td>Yani çocukluğum, hem umduğunuzdan daha fazla t...</td>\n",
       "      <td>Yani çocukluğum, hem umduğunuzdan daha fazla t...</td>\n",
       "    </tr>\n",
       "    <tr>\n",
       "      <th>4</th>\n",
       "      <td>4</td>\n",
       "      <td>Örneğin, küçükken kız kardeşimle hangimizin en...</td>\n",
       "      <td>Örneğin, küçükken kız kardeşimle hangimizin en...</td>\n",
       "    </tr>\n",
       "    <tr>\n",
       "      <th>6</th>\n",
       "      <td>6</td>\n",
       "      <td>Ve sahip olamadığım, sahip olmak için yeterli ...</td>\n",
       "      <td>Ve sahip olamadığım, sahip olmak için yeterli ...</td>\n",
       "    </tr>\n",
       "    <tr>\n",
       "      <th>8</th>\n",
       "      <td>8</td>\n",
       "      <td>Sonra diğer ikinci kural-- kural demek zorunda...</td>\n",
       "      <td>Sonra diğer ikinci kural-- kural demek zorunda...</td>\n",
       "    </tr>\n",
       "    <tr>\n",
       "      <th>9</th>\n",
       "      <td>9</td>\n",
       "      <td>Çok iyi bir sanat ilginç, entellektüel fikirli...</td>\n",
       "      <td>Çok iyi bir sanat ilginç, entellektüel fikirli...</td>\n",
       "    </tr>\n",
       "  </tbody>\n",
       "</table>\n",
       "</div>"
      ],
      "text/plain": [
       "   id                                               text  \\\n",
       "3   3  Yani çocukluğum, hem umduğunuzdan daha fazla t...   \n",
       "4   4  Örneğin, küçükken kız kardeşimle hangimizin en...   \n",
       "6   6  Ve sahip olamadığım, sahip olmak için yeterli ...   \n",
       "8   8  Sonra diğer ikinci kural-- kural demek zorunda...   \n",
       "9   9  Çok iyi bir sanat ilginç, entellektüel fikirli...   \n",
       "\n",
       "                                               text1  \n",
       "3  Yani çocukluğum, hem umduğunuzdan daha fazla t...  \n",
       "4  Örneğin, küçükken kız kardeşimle hangimizin en...  \n",
       "6  Ve sahip olamadığım, sahip olmak için yeterli ...  \n",
       "8  Sonra diğer ikinci kural-- kural demek zorunda...  \n",
       "9  Çok iyi bir sanat ilginç, entellektüel fikirli...  "
      ]
     },
     "execution_count": 20,
     "metadata": {},
     "output_type": "execute_result"
    }
   ],
   "source": [
    "df1.drop(labels=['text_len'], axis=1, inplace=True)\n",
    "df1.head()"
   ]
  },
  {
   "cell_type": "code",
   "execution_count": 21,
   "metadata": {},
   "outputs": [
    {
     "data": {
      "text/plain": [
       "(9361, 3)"
      ]
     },
     "execution_count": 21,
     "metadata": {},
     "output_type": "execute_result"
    }
   ],
   "source": [
    "df1 = df1[:10240]\n",
    "df1.shape"
   ]
  },
  {
   "cell_type": "code",
   "execution_count": 22,
   "metadata": {},
   "outputs": [],
   "source": [
    "df1.to_csv(\"/home/qblocks/dataset/turkish_male/metadata.csv\",\n",
    "           sep='|', header=False, index=False)"
   ]
  },
  {
   "cell_type": "code",
   "execution_count": null,
   "metadata": {},
   "outputs": [],
   "source": []
  }
 ],
 "metadata": {
  "kernelspec": {
   "display_name": "Python 3",
   "language": "python",
   "name": "python3"
  },
  "language_info": {
   "codemirror_mode": {
    "name": "ipython",
    "version": 3
   },
   "file_extension": ".py",
   "mimetype": "text/x-python",
   "name": "python",
   "nbconvert_exporter": "python",
   "pygments_lexer": "ipython3",
   "version": "3.8.5"
  }
 },
 "nbformat": 4,
 "nbformat_minor": 4
}
